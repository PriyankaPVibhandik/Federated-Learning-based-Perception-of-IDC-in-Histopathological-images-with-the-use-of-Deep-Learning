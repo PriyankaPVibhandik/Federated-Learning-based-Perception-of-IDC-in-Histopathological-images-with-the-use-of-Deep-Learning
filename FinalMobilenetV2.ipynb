{
  "nbformat": 4,
  "nbformat_minor": 0,
  "metadata": {
    "colab": {
      "provenance": [],
      "authorship_tag": "ABX9TyOb6UbNEgCdq2JH2B9ozL4B",
      "include_colab_link": true
    },
    "kernelspec": {
      "name": "python3",
      "display_name": "Python 3"
    },
    "language_info": {
      "name": "python"
    }
  },
  "cells": [
    {
      "cell_type": "markdown",
      "metadata": {
        "id": "view-in-github",
        "colab_type": "text"
      },
      "source": [
        "<a href=\"https://colab.research.google.com/github/PriyankaPVibhandik/Federated-Learning-based-Perception-of-IDC-in-Histopathological-images-with-the-use-of-Deep-Learning/blob/main/FinalMobilenetV2.ipynb\" target=\"_parent\"><img src=\"https://colab.research.google.com/assets/colab-badge.svg\" alt=\"Open In Colab\"/></a>"
      ]
    },
    {
      "cell_type": "markdown",
      "source": [
        "## MobileNet-V2 image classification DL module."
      ],
      "metadata": {
        "id": "RW5rJQpUxY0f"
      }
    },
    {
      "cell_type": "markdown",
      "source": [
        "# import libraries"
      ],
      "metadata": {
        "id": "pK9oDYtSxiAl"
      }
    },
    {
      "cell_type": "code",
      "execution_count": null,
      "metadata": {
        "id": "iAQ7oZ21-VgC"
      },
      "outputs": [],
      "source": [
        "from tensorflow.keras.preprocessing.image import img_to_array\n",
        "from tensorflow.keras.applications import MobileNetV2\n",
        "from tensorflow.keras.layers import AveragePooling2D\n",
        "from tensorflow.keras.layers import Dropout\n",
        "from tensorflow.keras.layers import Flatten\n",
        "from tensorflow.keras.layers import Dense\n",
        "from tensorflow.keras.layers import Input\n",
        "from tensorflow.keras.models import Model\n",
        "from keras.models import Sequential\n",
        "\n",
        "from sklearn.preprocessing import MultiLabelBinarizer\n",
        "from sklearn.model_selection import train_test_split\n",
        "from sklearn.metrics import classification_report\n",
        "\n",
        "import matplotlib.pyplot as plt\n",
        "import numpy as np\n",
        "import random\n",
        "import cv2\n",
        "import os\n",
        "import tensorflow\n",
        "import keras"
      ]
    },
    {
      "cell_type": "code",
      "source": [
        "import json\n",
        "import math\n",
        "import os  # dealing with directories\n",
        "\n",
        "import cv2 # working with, mainly resizing, images\n",
        "from PIL import Image\n",
        "import numpy as np  # dealing with arrays\n",
        "from keras import layers\n",
        "from keras.applications import DenseNet201\n",
        "from keras.callbacks import Callback, ModelCheckpoint, ReduceLROnPlateau, TensorBoard\n",
        "from keras.preprocessing.image import ImageDataGenerator\n",
        "from keras.utils.np_utils import to_categorical\n",
        "from keras.models import Sequential\n",
        "from keras.optimizers import Adam\n",
        "import matplotlib.pyplot as plt\n",
        "import pandas as pd\n",
        "from sklearn.model_selection import train_test_split\n",
        "from sklearn.metrics import cohen_kappa_score, accuracy_score\n",
        "import scipy\n",
        "from tqdm import tqdm   # a nice pretty percentage bar for tasks.\n",
        "import tensorflow as tf\n",
        "from keras import backend as K\n",
        "import gc\n",
        "from functools import partial\n",
        "from sklearn import metrics\n",
        "from collections import Counter\n",
        "import json\n",
        "import itertools\n",
        "%matplotlib inline"
      ],
      "metadata": {
        "id": "oEVo3hIbFZg8"
      },
      "execution_count": null,
      "outputs": []
    },
    {
      "cell_type": "code",
      "source": [
        "!pip install imutils"
      ],
      "metadata": {
        "colab": {
          "base_uri": "https://localhost:8080/"
        },
        "id": "TwyBycvjFfVL",
        "outputId": "27cb5d4b-848a-4dba-d9b4-46e5bf77c172"
      },
      "execution_count": null,
      "outputs": [
        {
          "output_type": "stream",
          "name": "stdout",
          "text": [
            "Looking in indexes: https://pypi.org/simple, https://us-python.pkg.dev/colab-wheels/public/simple/\n",
            "Requirement already satisfied: imutils in /usr/local/lib/python3.10/dist-packages (0.5.4)\n"
          ]
        }
      ]
    },
    {
      "cell_type": "code",
      "source": [
        "from imutils import paths"
      ],
      "metadata": {
        "id": "lTTly34lFmls"
      },
      "execution_count": null,
      "outputs": []
    },
    {
      "cell_type": "markdown",
      "source": [
        "# upload the dataset folder"
      ],
      "metadata": {
        "id": "SFU-tPYJxoKW"
      }
    },
    {
      "cell_type": "code",
      "source": [
        "from zipfile import ZipFile\n",
        "file_name = '/content/FinalProjectDataset.zip'\n",
        "\n",
        "with ZipFile(file_name, 'r') as zip:\n",
        "  zip.extractall()\n",
        "  print('Done')"
      ],
      "metadata": {
        "colab": {
          "base_uri": "https://localhost:8080/"
        },
        "id": "g_IfGxj7Fped",
        "outputId": "5694a5d8-30fb-4869-cdbf-d2c51e1ef1dc"
      },
      "execution_count": null,
      "outputs": [
        {
          "output_type": "stream",
          "name": "stdout",
          "text": [
            "Done\n"
          ]
        }
      ]
    },
    {
      "cell_type": "markdown",
      "source": [
        "this code snippet reads and processes images from a directory, resizes them to a specific dimension, converts them into NumPy arrays, extracts their labels from the image paths, and normalizes the pixel values. The resulting processed image data and labels are stored in separate NumPy arrays."
      ],
      "metadata": {
        "id": "thO84nqVyP_g"
      }
    },
    {
      "cell_type": "code",
      "source": [
        "imagePaths = sorted(list(paths.list_images(\"/content/FinalProjectDataset\")))\n",
        "\n",
        "# random shuffle\n",
        "random.seed(42)\n",
        "random.shuffle(imagePaths)\n",
        "\n",
        "data = []\n",
        "labels = []\n",
        "image_dims = (224, 224, 3)\n",
        "\n",
        "for imagePath in imagePaths:\n",
        "    image = cv2.imread(imagePath)\n",
        "    image = cv2.resize(image, (image_dims[1], image_dims[0]))\n",
        "    image = img_to_array(image)\n",
        "    data.append(image)\n",
        "    l = label = imagePath.split(os.path.sep)[-2].split(\"_\")\n",
        "    labels.append(l)\n",
        "\n",
        "data = np.array(data, dtype=\"float\") / 255.0\n",
        "labels = np.array(labels)\n",
        "print(\"{} images ({:.2f}MB)\".format(len(imagePaths), data.nbytes / (1024 * 1000.0)))"
      ],
      "metadata": {
        "colab": {
          "base_uri": "https://localhost:8080/"
        },
        "id": "eJ6EXaIMFtcK",
        "outputId": "114db349-349e-4666-f8cc-894bd0362413"
      },
      "execution_count": null,
      "outputs": [
        {
          "output_type": "stream",
          "name": "stdout",
          "text": [
            "1680 images (1975.68MB)\n"
          ]
        }
      ]
    },
    {
      "cell_type": "code",
      "source": [
        "data = np.array(data)\n",
        "label = np.array(labels)\n",
        "print(data.shape)"
      ],
      "metadata": {
        "colab": {
          "base_uri": "https://localhost:8080/"
        },
        "id": "Ck4F1C6-F1QM",
        "outputId": "28dcc0a4-30f5-42b5-999b-b44866646413"
      },
      "execution_count": null,
      "outputs": [
        {
          "output_type": "stream",
          "name": "stdout",
          "text": [
            "(1680, 224, 224, 3)\n"
          ]
        }
      ]
    },
    {
      "cell_type": "code",
      "source": [
        "mlb = MultiLabelBinarizer()\n",
        "labels = mlb.fit_transform(labels)\n",
        "# total 4 labels\n",
        "print(\"class labels:\")\n",
        "for (i, label) in enumerate(mlb.classes_):\n",
        "    print(\"{}. {}\".format(i + 1, label))"
      ],
      "metadata": {
        "colab": {
          "base_uri": "https://localhost:8080/"
        },
        "id": "89HyH8NpF58J",
        "outputId": "3a14013b-ce38-4f27-8b78-e4394120fa58"
      },
      "execution_count": null,
      "outputs": [
        {
          "output_type": "stream",
          "name": "stdout",
          "text": [
            "class labels:\n",
            "1. Begnin\n",
            "2. Maglinant\n"
          ]
        }
      ]
    },
    {
      "cell_type": "markdown",
      "source": [
        "the MobileNetV2_model function creates a custom model based on the MobileNetV2 architecture. It adds the MobileNetV2 layers, performs pooling and flattening, adds fully connected layers with dropout regularization, and concludes with a softmax layer for multi-class classification. The function also freezes the weights of all layers except the last four layers of MobileNetV2."
      ],
      "metadata": {
        "id": "T4XjFvSW5zkc"
      }
    },
    {
      "cell_type": "code",
      "source": [
        "def MobileNetV2_model(learning_rate, input_shape,class_number):\n",
        "    baseModel = MobileNetV2(include_top=False, input_tensor=Input(shape=input_shape))\n",
        "    for layer in baseModel.layers[:-4]:\n",
        "        layer.trainable = False\n",
        "\n",
        "    model = Sequential()\n",
        "    model.add(baseModel)\n",
        "    model.add(AveragePooling2D(pool_size=(2, 2)))\n",
        "    model.add(Flatten())\n",
        "    model.add(Dense(512, activation=\"relu\"))\n",
        "    model.add(Dropout(0.5))\n",
        "    model.add(Dense(50, activation=\"relu\"))\n",
        "    model.add(Dropout(0.5))\n",
        "    model.add(Dense(class_number, activation='softmax'))\n",
        "\n",
        "    return model"
      ],
      "metadata": {
        "id": "RgF1BBZyGBAw"
      },
      "execution_count": null,
      "outputs": []
    },
    {
      "cell_type": "code",
      "source": [
        "bs = 32\n",
        "lr = 0.0001\n",
        "size = (224, 224)\n",
        "shape = (224,224, 3)\n",
        "epochs = 10\n",
        "class_number = 2"
      ],
      "metadata": {
        "id": "TNIx7jEHGEIr"
      },
      "execution_count": null,
      "outputs": []
    },
    {
      "cell_type": "markdown",
      "source": [
        "the model.compile() function configures the learning process of the model. It specifies the loss function, evaluation metric(s), and optimization algorithm to be used during training.\n",
        "\"Adam\" is an adaptive learning rate optimization algorithm that is commonly used in deep learning. It adjusts the learning rate dynamically based on the gradients of the model parameters, allowing faster convergence and better performance."
      ],
      "metadata": {
        "id": "Zgzek7XN6QOP"
      }
    },
    {
      "cell_type": "markdown",
      "source": [
        "Categorical cross-entropy is a commonly used loss function for multi-class classification tasks. It measures the dissimilarity between the predicted class probabilities and the true class labels.\n",
        "model.compile() is a method used in Keras to configure the learning process of a model. It is called to compile the model before training."
      ],
      "metadata": {
        "id": "qtPUfLjP6stV"
      }
    },
    {
      "cell_type": "code",
      "source": [
        "model = MobileNetV2_model(lr,shape,class_number)\n",
        "model.compile(loss= \"categorical_crossentropy\", metrics=[\"accuracy\"], optimizer=\"adam\")"
      ],
      "metadata": {
        "colab": {
          "base_uri": "https://localhost:8080/"
        },
        "id": "ouMO6aZbGOrX",
        "outputId": "6107c96e-acfe-49e5-f2e3-cec7436cbb85"
      },
      "execution_count": null,
      "outputs": [
        {
          "output_type": "stream",
          "name": "stderr",
          "text": [
            "WARNING:tensorflow:`input_shape` is undefined or non-square, or `rows` is not in [96, 128, 160, 192, 224]. Weights for input shape (224, 224) will be loaded as the default.\n"
          ]
        },
        {
          "output_type": "stream",
          "name": "stdout",
          "text": [
            "Downloading data from https://storage.googleapis.com/tensorflow/keras-applications/mobilenet_v2/mobilenet_v2_weights_tf_dim_ordering_tf_kernels_1.0_224_no_top.h5\n",
            "9406464/9406464 [==============================] - 0s 0us/step\n"
          ]
        }
      ]
    },
    {
      "cell_type": "code",
      "source": [
        "image_shape = (224,224,3)"
      ],
      "metadata": {
        "id": "uAuN0uu1GWzF"
      },
      "execution_count": null,
      "outputs": []
    },
    {
      "cell_type": "markdown",
      "source": [
        " this code snippet creates a base MobileNetV2 model without the top classification layers and initializes it with pre-trained weights from the ImageNet dataset. The input_shape parameter is used to specify the shape of the input images that will be processed by the model"
      ],
      "metadata": {
        "id": "db7ZrTYd7EEZ"
      }
    },
    {
      "cell_type": "code",
      "source": [
        "import tensorflow as tf\n",
        "base_model = tf.keras.applications.MobileNetV2(input_shape=image_shape,\n",
        "                                               include_top=False,\n",
        "                                               weights='imagenet')\n",
        "\n",
        "model = MobileNetV2_model(lr,shape,class_number)\n",
        "model.compile(loss= \"categorical_crossentropy\", metrics=[\"accuracy\"], optimizer=\"adam\")"
      ],
      "metadata": {
        "colab": {
          "base_uri": "https://localhost:8080/"
        },
        "id": "LfWwtQ2XGfHZ",
        "outputId": "69796904-6013-40f7-b2a2-89ae54a89d28"
      },
      "execution_count": null,
      "outputs": [
        {
          "output_type": "stream",
          "name": "stderr",
          "text": [
            "WARNING:tensorflow:`input_shape` is undefined or non-square, or `rows` is not in [96, 128, 160, 192, 224]. Weights for input shape (224, 224) will be loaded as the default.\n"
          ]
        }
      ]
    },
    {
      "cell_type": "code",
      "source": [
        "trainX, testX, trainY, testY = train_test_split(data, labels, test_size=0.20)"
      ],
      "metadata": {
        "id": "G7I8NBrrGi36"
      },
      "execution_count": null,
      "outputs": []
    },
    {
      "cell_type": "markdown",
      "source": [
        "this code snippet splits the training data into training and validation sets. The size of the validation set is set to 20% of the entire dataset, and a random seed of 11 is used to ensure reproducibility of the split."
      ],
      "metadata": {
        "id": "z5tnc4_n7T65"
      }
    },
    {
      "cell_type": "code",
      "source": [
        "trainX, x_val, trainY, y_val = train_test_split(\n",
        "   trainX, trainY,\n",
        "    test_size=0.20,\n",
        "    random_state=11\n",
        ")"
      ],
      "metadata": {
        "id": "tbbjysmyGlXq"
      },
      "execution_count": null,
      "outputs": []
    },
    {
      "cell_type": "code",
      "source": [
        "print(\"[INFO] training ...\")\n",
        "H = model.fit(trainX, trainY, batch_size=32,steps_per_epoch=len(trainX) // 32,\tvalidation_data=(testX, testY),\tvalidation_steps=len(testX) // 32,\tepochs=20)"
      ],
      "metadata": {
        "colab": {
          "base_uri": "https://localhost:8080/"
        },
        "id": "hdM_i44nGoY5",
        "outputId": "50effbfe-cac4-42c0-90f0-8ab6395f6d6f"
      },
      "execution_count": null,
      "outputs": [
        {
          "output_type": "stream",
          "name": "stdout",
          "text": [
            "[INFO] training ...\n",
            "Epoch 1/20\n",
            "33/33 [==============================] - 93s 3s/step - loss: 1.3954 - accuracy: 0.7784 - val_loss: 0.3746 - val_accuracy: 0.8438\n",
            "Epoch 2/20\n",
            "33/33 [==============================] - 92s 3s/step - loss: 0.5799 - accuracy: 0.8332 - val_loss: 0.3385 - val_accuracy: 0.8625\n",
            "Epoch 3/20\n",
            "33/33 [==============================] - 68s 2s/step - loss: 0.3897 - accuracy: 0.8744 - val_loss: 0.3314 - val_accuracy: 0.9000\n",
            "Epoch 4/20\n",
            "33/33 [==============================] - 69s 2s/step - loss: 0.2747 - accuracy: 0.8945 - val_loss: 0.2603 - val_accuracy: 0.8938\n",
            "Epoch 5/20\n",
            "33/33 [==============================] - 61s 2s/step - loss: 0.2039 - accuracy: 0.9386 - val_loss: 0.2930 - val_accuracy: 0.8813\n",
            "Epoch 6/20\n",
            "33/33 [==============================] - 62s 2s/step - loss: 0.1823 - accuracy: 0.9501 - val_loss: 0.3427 - val_accuracy: 0.9094\n",
            "Epoch 7/20\n",
            "33/33 [==============================] - 60s 2s/step - loss: 0.1204 - accuracy: 0.9578 - val_loss: 0.5524 - val_accuracy: 0.8562\n",
            "Epoch 8/20\n",
            "33/33 [==============================] - 68s 2s/step - loss: 0.1233 - accuracy: 0.9540 - val_loss: 0.3889 - val_accuracy: 0.9000\n",
            "Epoch 9/20\n",
            "33/33 [==============================] - 66s 2s/step - loss: 0.0997 - accuracy: 0.9684 - val_loss: 0.3042 - val_accuracy: 0.9094\n",
            "Epoch 10/20\n",
            "33/33 [==============================] - 67s 2s/step - loss: 0.0507 - accuracy: 0.9875 - val_loss: 0.4173 - val_accuracy: 0.9031\n",
            "Epoch 11/20\n",
            "33/33 [==============================] - 73s 2s/step - loss: 0.0693 - accuracy: 0.9779 - val_loss: 0.4991 - val_accuracy: 0.9156\n",
            "Epoch 12/20\n",
            "33/33 [==============================] - 67s 2s/step - loss: 0.0705 - accuracy: 0.9751 - val_loss: 0.4851 - val_accuracy: 0.9031\n",
            "Epoch 13/20\n",
            "33/33 [==============================] - 67s 2s/step - loss: 0.0329 - accuracy: 0.9885 - val_loss: 0.5291 - val_accuracy: 0.9219\n",
            "Epoch 14/20\n",
            "33/33 [==============================] - 67s 2s/step - loss: 0.0217 - accuracy: 0.9895 - val_loss: 0.6686 - val_accuracy: 0.9219\n",
            "Epoch 15/20\n",
            "33/33 [==============================] - 68s 2s/step - loss: 0.0230 - accuracy: 0.9923 - val_loss: 0.9383 - val_accuracy: 0.8781\n",
            "Epoch 16/20\n",
            "33/33 [==============================] - 69s 2s/step - loss: 0.0432 - accuracy: 0.9904 - val_loss: 0.5868 - val_accuracy: 0.9312\n",
            "Epoch 17/20\n",
            "33/33 [==============================] - 67s 2s/step - loss: 0.0180 - accuracy: 0.9962 - val_loss: 0.6102 - val_accuracy: 0.9062\n",
            "Epoch 18/20\n",
            "33/33 [==============================] - 69s 2s/step - loss: 0.0255 - accuracy: 0.9914 - val_loss: 0.8813 - val_accuracy: 0.8656\n",
            "Epoch 19/20\n",
            "33/33 [==============================] - 69s 2s/step - loss: 0.0184 - accuracy: 0.9952 - val_loss: 0.4759 - val_accuracy: 0.9219\n",
            "Epoch 20/20\n",
            "33/33 [==============================] - 75s 2s/step - loss: 0.0375 - accuracy: 0.9847 - val_loss: 0.5813 - val_accuracy: 0.8906\n"
          ]
        }
      ]
    },
    {
      "cell_type": "markdown",
      "source": [
        "precision measures the accuracy of positive predictions, recall measures the ability to identify positive instances, and the F1 score provides a balanced measure of a model's precision and recall. These metrics are commonly used in classification tasks to evaluate the performance of machine learning models."
      ],
      "metadata": {
        "id": "0BkraA6P7qwL"
      }
    },
    {
      "cell_type": "code",
      "source": [
        "print(\"[INFO] evaluating network...\")\n",
        "predIdxs = model.predict(testX, batch_size=32)\n",
        "\n",
        "# for each image in the testing set we need to find the index of the label with corresponding largest predicted probability\n",
        "predIdxs = np.argmax(predIdxs, axis=1)\n",
        "\n",
        "# show a nicely formatted classification report\n",
        "print(classification_report(testY.argmax(axis=1), predIdxs,target_names=mlb.classes_))"
      ],
      "metadata": {
        "colab": {
          "base_uri": "https://localhost:8080/"
        },
        "id": "qRxkQBi6I2jW",
        "outputId": "018102b2-af7e-4d35-dcf1-5ef149d3f668"
      },
      "execution_count": null,
      "outputs": [
        {
          "output_type": "stream",
          "name": "stdout",
          "text": [
            "[INFO] evaluating network...\n",
            "11/11 [==============================] - 14s 1s/step\n",
            "              precision    recall  f1-score   support\n",
            "\n",
            "      Begnin       0.87      0.99      0.93       230\n",
            "   Maglinant       0.97      0.68      0.80       106\n",
            "\n",
            "    accuracy                           0.89       336\n",
            "   macro avg       0.92      0.84      0.86       336\n",
            "weighted avg       0.90      0.89      0.89       336\n",
            "\n"
          ]
        }
      ]
    },
    {
      "cell_type": "markdown",
      "source": [
        "the build_model function builds a classification model based on the given backbone architecture. It adds the backbone layers, performs global average pooling, applies dropout and batch normalization, adds a final dense layer with softmax activation for classification, and compiles the model with the specified loss function, optimizer, and metrics."
      ],
      "metadata": {
        "id": "pNzH0HjK-695"
      }
    },
    {
      "cell_type": "code",
      "source": [
        "def build_model(backbone, lr=1e-4):\n",
        "    model = Sequential()\n",
        "    model.add(backbone)\n",
        "    model.add(layers.GlobalAveragePooling2D())\n",
        "    model.add(layers.Dropout(0.5))\n",
        "    model.add(layers.BatchNormalization())\n",
        "    model.add(layers.Dense(2, activation='softmax'))\n",
        "\n",
        "\n",
        "    model.compile(\n",
        "        loss='binary_crossentropy',\n",
        "        optimizer=Adam(lr=lr),\n",
        "        metrics=['accuracy']\n",
        "    )\n",
        "\n",
        "    return model"
      ],
      "metadata": {
        "id": "1HspCHD-I5AG"
      },
      "execution_count": null,
      "outputs": []
    },
    {
      "cell_type": "markdown",
      "source": [
        "the ReduceLROnPlateau callback reduces the learning rate during training if the validation accuracy does not improve for a certain number of epochs. The ModelCheckpoint callback saves the weights of the model at each improvement in the validation accuracy, ensuring that only the best weights are saved. These callbacks help in optimizing the learning rate and saving the best model weights for later use."
      ],
      "metadata": {
        "id": "zWgbMF5r_IKK"
      }
    },
    {
      "cell_type": "code",
      "source": [
        "# Learning Rate Reducer\n",
        "learn_control = ReduceLROnPlateau(monitor='val_acc', patience=5,\n",
        "                                  verbose=1,factor=0.2, min_lr=1e-7)\n",
        "\n",
        "# Checkpoint\n",
        "filepath=\"weights.best.hdf5\"\n",
        "metric = 'val_accuracy'\n",
        "checkpoint = ModelCheckpoint(filepath, monitor=metric, verbose=1, save_best_only=True, mode='max')  #monitor='val_acc'"
      ],
      "metadata": {
        "id": "ZNn_cpiCI77F"
      },
      "execution_count": null,
      "outputs": []
    },
    {
      "cell_type": "code",
      "source": [
        "Y_val_pred = model.predict(x_val)"
      ],
      "metadata": {
        "colab": {
          "base_uri": "https://localhost:8080/"
        },
        "id": "45DLbopUI-UX",
        "outputId": "a6a59372-cbdc-4b97-8fd1-58d0b663c99b"
      },
      "execution_count": null,
      "outputs": [
        {
          "output_type": "stream",
          "name": "stdout",
          "text": [
            "9/9 [==============================] - 12s 1s/step\n"
          ]
        }
      ]
    },
    {
      "cell_type": "code",
      "source": [
        "accuracy_score(np.argmax(y_val, axis=1), np.argmax(Y_val_pred, axis=1))"
      ],
      "metadata": {
        "colab": {
          "base_uri": "https://localhost:8080/"
        },
        "id": "IjGSP1OIJBgA",
        "outputId": "ad4f13f8-6817-4c7c-b22b-2461ee99914b"
      },
      "execution_count": null,
      "outputs": [
        {
          "output_type": "execute_result",
          "data": {
            "text/plain": [
              "0.9070631970260223"
            ]
          },
          "metadata": {},
          "execution_count": 21
        }
      ]
    },
    {
      "cell_type": "code",
      "source": [
        "Y_pred = model.predict(testX)"
      ],
      "metadata": {
        "colab": {
          "base_uri": "https://localhost:8080/"
        },
        "id": "JyfRkC_6JDMf",
        "outputId": "ed8ad0be-166f-45fb-f264-9b8cf8e63534"
      },
      "execution_count": null,
      "outputs": [
        {
          "output_type": "stream",
          "name": "stdout",
          "text": [
            "11/11 [==============================] - 14s 1s/step\n"
          ]
        }
      ]
    },
    {
      "cell_type": "markdown",
      "source": [
        "this code snippet sets the batch size to 32 and configures an ImageDataGenerator with augmentation options such as zooming, rotation, and flipping. This generator will be used to generate augmented image data during training."
      ],
      "metadata": {
        "id": "tutiA6fK_agz"
      }
    },
    {
      "cell_type": "code",
      "source": [
        "bs = 32\n",
        "\n",
        "# Using original generator\n",
        "train_generator = ImageDataGenerator(\n",
        "        zoom_range=2,  # set range for random zoom\n",
        "        rotation_range = 90,\n",
        "        horizontal_flip=True,  # randomly flip images\n",
        "        vertical_flip=True,  # randomly flip images\n",
        "    )"
      ],
      "metadata": {
        "id": "ZYcIErpAJFHi"
      },
      "execution_count": null,
      "outputs": []
    },
    {
      "cell_type": "markdown",
      "source": [
        "this code snippet performs Test Time Augmentation (TTA) by generating multiple predictions with augmented versions of the test data. The predictions from each TTA step are stored and then averaged to obtain the final predictions. This technique can help improve the performance and robustness of the model's predictions."
      ],
      "metadata": {
        "id": "dNuAKcLZ_kGa"
      }
    },
    {
      "cell_type": "code",
      "source": [
        "tta_steps = 10\n",
        "predictions = []\n",
        "\n",
        "for i in tqdm(range(tta_steps)):\n",
        "    preds = model.predict_generator(train_generator.flow(testX, batch_size=bs, shuffle=False),\n",
        "                                    steps = len(testX)/bs)\n",
        "\n",
        "    predictions.append(preds)\n",
        "    gc.collect()\n",
        "\n",
        "Y_pred_tta = np.mean(predictions, axis=0)"
      ],
      "metadata": {
        "colab": {
          "base_uri": "https://localhost:8080/"
        },
        "id": "ho11OLF5JITz",
        "outputId": "97d72324-0ec1-4e41-f5df-c84559466e47"
      },
      "execution_count": null,
      "outputs": [
        {
          "output_type": "stream",
          "name": "stderr",
          "text": [
            "\r  0%|          | 0/10 [00:00<?, ?it/s]<ipython-input-24-74e30d10b54e>:5: UserWarning: `Model.predict_generator` is deprecated and will be removed in a future version. Please use `Model.predict`, which supports generators.\n",
            "  preds = model.predict_generator(train_generator.flow(testX, batch_size=bs, shuffle=False),\n",
            "100%|██████████| 10/10 [03:51<00:00, 23.12s/it]\n"
          ]
        }
      ]
    },
    {
      "cell_type": "markdown",
      "source": [
        "this code snippet defines a function to plot a confusion matrix and then uses it to plot a confusion matrix for skin cancer classification. The confusion matrix provides insights into the performance of a classification model by showing the counts or proportions of true positive, true negative, false positive, and false negative predictions for each class."
      ],
      "metadata": {
        "id": "Pdi3vkzI_0AJ"
      }
    },
    {
      "cell_type": "code",
      "source": [
        "from sklearn.metrics import confusion_matrix\n",
        "\n",
        "def plot_confusion_matrix(cm, classes,\n",
        "                          normalize=False,\n",
        "                          title='Confusion matrix',\n",
        "                          cmap=plt.cm.Blues):\n",
        "    \"\"\"\n",
        "    This function prints and plots the confusion matrix.\n",
        "    Normalization can be applied by setting `normalize=True`.\n",
        "    \"\"\"\n",
        "    if normalize:\n",
        "        cm = cm.astype('float') / cm.sum(axis=1)[:, np.newaxis]\n",
        "        print(\"Normalized confusion matrix\")\n",
        "    else:\n",
        "        print('Confusion matrix, without normalization')\n",
        "\n",
        "    print(cm)\n",
        "\n",
        "    plt.imshow(cm, interpolation='nearest', cmap=cmap)\n",
        "    plt.title(title)\n",
        "    plt.colorbar()\n",
        "    tick_marks = np.arange(len(classes))\n",
        "    plt.xticks(tick_marks, classes, rotation=55)\n",
        "    plt.yticks(tick_marks, classes)\n",
        "\n",
        "    fmt = '.2f' if normalize else 'd'\n",
        "    thresh = cm.max() / 2.\n",
        "    for i, j in itertools.product(range(cm.shape[0]), range(cm.shape[1])):\n",
        "        plt.text(j, i, format(cm[i, j], fmt),\n",
        "                 horizontalalignment=\"center\",\n",
        "                 color=\"white\" if cm[i, j] > thresh else \"black\")\n",
        "\n",
        "    plt.ylabel('True label')\n",
        "    plt.xlabel('Predicted label')\n",
        "    plt.tight_layout()\n",
        "\n",
        "cm = confusion_matrix(np.argmax(testY, axis=1), np.argmax(Y_pred, axis=1))\n",
        "\n",
        "cm_plot_label =['benign', 'malignant']\n",
        "plot_confusion_matrix(cm, cm_plot_label, title ='Confusion Metrix for Skin Cancer')"
      ],
      "metadata": {
        "colab": {
          "base_uri": "https://localhost:8080/",
          "height": 542
        },
        "id": "f3dCZ69ZJLBU",
        "outputId": "fc7d2ecd-1a0e-4b12-e002-3d0a28886847"
      },
      "execution_count": null,
      "outputs": [
        {
          "output_type": "stream",
          "name": "stdout",
          "text": [
            "Confusion matrix, without normalization\n",
            "[[228   2]\n",
            " [ 34  72]]\n"
          ]
        },
        {
          "output_type": "display_data",
          "data": {
            "text/plain": [
              "<Figure size 640x480 with 2 Axes>"
            ],
            "image/png": "[encoded data removed]"
          },
          "metadata": {}
        }
      ]
    },
    {
      "cell_type": "code",
      "source": [
        "cm = confusion_matrix(np.argmax(testY, axis=1), np.argmax(Y_pred_tta, axis=1))\n",
        "\n",
        "cm_plot_label =['benign', 'malignant']\n",
        "plot_confusion_matrix(cm, cm_plot_label, title ='Confusion Metrix for Skin Cancer')"
      ],
      "metadata": {
        "colab": {
          "base_uri": "https://localhost:8080/",
          "height": 542
        },
        "id": "B870fk7iJNiX",
        "outputId": "e4db5680-f37d-4568-d29c-52c84c4d2f6e"
      },
      "execution_count": null,
      "outputs": [
        {
          "output_type": "stream",
          "name": "stdout",
          "text": [
            "Confusion matrix, without normalization\n",
            "[[226   4]\n",
            " [ 63  43]]\n"
          ]
        },
        {
          "output_type": "display_data",
          "data": {
            "text/plain": [
              "<Figure size 640x480 with 2 Axes>"
            ],
            "image/png": "[encoded data removed]"
          },
          "metadata": {}
        }
      ]
    },
    {
      "cell_type": "code",
      "source": [
        "N = 20\n",
        "plt.style.use(\"ggplot\")\n",
        "plt.figure()\n",
        "plt.plot(np.arange(0, N), H.history[\"loss\"], label=\"train_loss\")\n",
        "plt.plot(np.arange(0, N), H.history[\"val_loss\"], label=\"val_loss\")\n",
        "plt.plot(np.arange(0, N), H.history[\"accuracy\"], label=\"train_acc\")\n",
        "plt.plot(np.arange(0, N), H.history[\"val_accuracy\"], label=\"val_acc\")\n",
        "plt.title(\"Training Loss and Accuracy\")\n",
        "plt.xlabel(\"Epoch #\")\n",
        "plt.ylabel(\"Loss/Accuracy\")\n",
        "plt.legend(loc=\"lower left\")"
      ],
      "metadata": {
        "colab": {
          "base_uri": "https://localhost:8080/",
          "height": 495
        },
        "id": "eifTquMWJQtg",
        "outputId": "ac2b7c74-af44-4f9d-ca50-903bc64e4531"
      },
      "execution_count": null,
      "outputs": [
        {
          "output_type": "execute_result",
          "data": {
            "text/plain": [
              "<matplotlib.legend.Legend at 0x7f9acc3859f0>"
            ]
          },
          "metadata": {},
          "execution_count": 27
        },
        {
          "output_type": "display_data",
          "data": {
            "text/plain": [
              "<Figure size 640x480 with 1 Axes>"
            ],
            "image/png": "[encoded data removed]"
          },
          "metadata": {}
        }
      ]
    },
    {
      "cell_type": "markdown",
      "source": [
        "the accuracy of this model is 89%"
      ],
      "metadata": {
        "id": "PwNwPGE0AXEh"
      }
    },
    {
      "cell_type": "code",
      "source": [],
      "metadata": {
        "id": "uGScsCEWA9oa"
      },
      "execution_count": null,
      "outputs": []
    },
    {
      "cell_type": "code",
      "source": [],
      "metadata": {
        "id": "KRpNhoujA93_"
      },
      "execution_count": null,
      "outputs": []
    },
    {
      "cell_type": "code",
      "source": [],
      "metadata": {
        "id": "kPtqfQiNA983"
      },
      "execution_count": null,
      "outputs": []
    },
    {
      "cell_type": "code",
      "source": [],
      "metadata": {
        "id": "I-oDvqE6A-A2"
      },
      "execution_count": null,
      "outputs": []
    },
    {
      "cell_type": "code",
      "source": [],
      "metadata": {
        "id": "meiANQioA-Ei"
      },
      "execution_count": null,
      "outputs": []
    },
    {
      "cell_type": "code",
      "source": [],
      "metadata": {
        "id": "hoG9EtHuA-H5"
      },
      "execution_count": null,
      "outputs": []
    },
    {
      "cell_type": "code",
      "source": [],
      "metadata": {
        "id": "bLlqCfd6A-eZ"
      },
      "execution_count": null,
      "outputs": []
    },
    {
      "cell_type": "code",
      "source": [],
      "metadata": {
        "id": "u6-zjNx_A-iu"
      },
      "execution_count": null,
      "outputs": []
    },
    {
      "cell_type": "markdown",
      "source": [
        "About mobilenet-v2"
      ],
      "metadata": {
        "id": "AQi_t6LCA_Hz"
      }
    },
    {
      "cell_type": "markdown",
      "source": [
        "MobileNetV2 is a convolutional neural network architecture that was designed for efficient and lightweight image classification tasks. It is an extension of the original MobileNet architecture, aiming to improve the trade-off between accuracy and model size.\n",
        "\n",
        "Key features of MobileNetV2:\n",
        "\n",
        "1. Depthwise Separable Convolutions: MobileNetV2 utilizes depthwise separable convolutions, which split the standard convolution operation into two separate operations: a depthwise convolution and a pointwise convolution. This significantly reduces the computational cost while maintaining the representational capacity of the network.\n",
        "\n",
        "2. Inverted Residuals: MobileNetV2 introduces inverted residuals, which use a bottleneck architecture with shortcut connections. This structure allows for information flow between different layers while reducing the number of parameters.\n",
        "\n",
        "3. Linear Bottlenecks: MobileNetV2 employs linear bottlenecks with a narrow bottleneck layer followed by a linear activation function. This choice reduces the non-linearity of the bottleneck layer, enabling better information flow and preserving valuable spatial information.\n",
        "\n",
        "4. Width Multiplier and Resolution Multiplier: MobileNetV2 provides flexibility through the use of width and resolution multipliers. The width multiplier adjusts the number of channels in each layer, allowing for control over the model's size and computational requirements. The resolution multiplier scales the input image resolution, which can further reduce the model's size and computational cost.\n",
        "\n",
        "Overall, MobileNetV2 is designed to be efficient, lightweight, and suitable for resource-constrained environments, such as mobile devices or embedded systems. It strikes a balance between model size and accuracy, making it well-suited for various image classification tasks with limited computational resources."
      ],
      "metadata": {
        "id": "yMmPt56PBB96"
      }
    },
    {
      "cell_type": "markdown",
      "source": [
        "MobileNetV2 has several parameters that can be adjusted to control the model's size, computational cost, and performance. Here are the key parameters:\n",
        "\n",
        "1. Input Shape: MobileNetV2 accepts input images of a specific shape. The input shape is typically specified as a tuple representing the image dimensions, such as (224, 224, 3), where 224x224 is the image size and 3 corresponds to the number of color channels (RGB).\n",
        "\n",
        "2. Width Multiplier: The width multiplier is a scaling factor applied to the number of channels in each layer. It is a value between 0 and 1, where 1 represents the original number of channels and smaller values reduce the number of channels proportionally. The width multiplier allows trading off between model size and accuracy.\n",
        "\n",
        "3. Resolution Multiplier: The resolution multiplier scales the input image resolution. It is also a value between 0 and 1, where 1 represents the original resolution. Scaling down the resolution reduces the computational cost and model size, but may also affect the model's performance.\n",
        "\n",
        "4. Depth Multiplier: The depth multiplier is a parameter that controls the number of filters in the depthwise convolution operation. It is a value between 0 and 1, where 1 represents the original number of filters. Similar to the width multiplier, the depth multiplier affects the model size and computational cost.\n",
        "\n",
        "5. Number of Classes: The number of classes represents the output size of the final dense layer in the network. It should be set according to the specific classification task.\n",
        "\n",
        "Regarding the space consumption and execution time of MobileNetV2, these factors depend on the specific configuration of the model, such as the input shape, width multiplier, and resolution multiplier. Generally, MobileNetV2 is known for its compact size and computational efficiency compared to larger and more complex architectures like VGG or ResNet. By reducing the number of parameters and employing depthwise separable convolutions, MobileNetV2 achieves a good balance between model size and performance.\n",
        "\n",
        "The exact space consumption and execution time can vary depending on the hardware platform, optimizations, and framework used for implementation. However, compared to deeper and more parameter-heavy models, MobileNetV2 generally requires less memory and computational resources, making it suitable for deployment on resource-constrained devices, including mobile phones, edge devices, and embedded systems."
      ],
      "metadata": {
        "id": "T8m6kiL-BEsy"
      }
    }
  ]
}